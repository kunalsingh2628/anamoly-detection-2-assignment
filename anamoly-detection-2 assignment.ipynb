{
 "cells": [
  {
   "cell_type": "code",
   "execution_count": null,
   "id": "50b4eff7-969a-4e14-abdb-3a4a54826b45",
   "metadata": {},
   "outputs": [],
   "source": [
    "##Q-1"
   ]
  },
  {
   "cell_type": "code",
   "execution_count": null,
   "id": "56fbae31-bd8e-420b-bd86-1579f2ace90e",
   "metadata": {},
   "outputs": [],
   "source": [
    "Feature selection plays a crucial role in anomaly detection by helping to identify and use relevant features while ignoring irrelevant or redundant ones.\n",
    "Anomalies often exhibit distinct patterns in specific features, and feature selection helps in focusing on these relevant features, improving the performance and interpretability of anomaly detection models.\n",
    "It can also contribute to reducing the dimensionality of the data, making the anomaly detection process computationally more efficient."
   ]
  },
  {
   "cell_type": "code",
   "execution_count": null,
   "id": "2f9b8f44-e713-4a77-9d16-2f7182916640",
   "metadata": {},
   "outputs": [],
   "source": [
    "##Q-2"
   ]
  },
  {
   "cell_type": "code",
   "execution_count": null,
   "id": "46095bd7-878e-4522-ba12-d866da525b45",
   "metadata": {},
   "outputs": [],
   "source": [
    "True Positive (TP): The number of correctly identified anomalies.\n",
    "False Positive (FP): The number of normal instances incorrectly classified as anomalies.\n",
    "True Negative (TN): The number of correctly identified normal instances.\n",
    "False Negative (FN): The number of anomalies incorrectly classified as normal.\n",
    "Precision: TP / (TP + FP)\n",
    "Recall (Sensitivity or True Positive Rate): TP / (TP + FN)\n",
    "F1 Score: Harmonic mean of precision and recall, 2 * (Precision * Recall) / (Precision + Recall)\n",
    "Area Under the ROC Curve (AUC-ROC): Measures the ability of the model to distinguish between classes.\n",
    "Area Under the Precision-Recall Curve (AUC-PR): Similar to AUC-ROC but focuses on precision and recall.\n",
    "Confusion Matrix: A matrix representing the counts of true positive, false positive, true negative, and false negative"
   ]
  },
  {
   "cell_type": "code",
   "execution_count": null,
   "id": "3b6d7f92-5939-48ee-93d8-3d7603c0d403",
   "metadata": {},
   "outputs": [],
   "source": [
    "##Q-3"
   ]
  },
  {
   "cell_type": "code",
   "execution_count": null,
   "id": "6a289798-6c8c-4dcb-9bcc-96cd33e0b678",
   "metadata": {},
   "outputs": [],
   "source": [
    "DBSCAN is a density-based clustering algorithm used for discovering clusters in data.\n",
    "It groups together data points that are close to each other based on a density criterion, rather than requiring a predefined number of clusters.\n",
    "The algorithm defines clusters as dense regions separated by sparser areas.\n",
    "It works by defining three types of points: core points, border points, and noise points."
   ]
  },
  {
   "cell_type": "code",
   "execution_count": null,
   "id": "0106c6dc-ca6b-4c92-8239-aa90a9cc7868",
   "metadata": {},
   "outputs": [],
   "source": [
    "##Q-4"
   ]
  },
  {
   "cell_type": "code",
   "execution_count": null,
   "id": "0e595291-97aa-47b0-a7fb-d34fce6e6fc8",
   "metadata": {},
   "outputs": [],
   "source": [
    "The epsilon (ε) parameter in DBSCAN defines the radius within which the algorithm looks for other data points to determine density.\n",
    "A smaller epsilon means that points need to be closer to each other to be considered part of the same cluster.\n",
    "A larger epsilon allows points to be farther apart and still be considered part of the same cluster.\n",
    "The choice of epsilon is crucial, as it significantly affects the clusters formed and, consequently, the detection of anomalies."
   ]
  },
  {
   "cell_type": "code",
   "execution_count": null,
   "id": "f8f396e2-56dd-4440-b55a-dc2325163057",
   "metadata": {},
   "outputs": [],
   "source": [
    "##Q-5"
   ]
  },
  {
   "cell_type": "code",
   "execution_count": null,
   "id": "ed457b6a-5d9a-4261-95d1-3277385a845c",
   "metadata": {},
   "outputs": [],
   "source": [
    "Core Points: These are data points that have at least a specified number of data points (MinPts) within a specified radius (epsilon). Core points are at the heart of a cluster.\n",
    "Border Points: These points are within the epsilon radius of a core point but do not have enough neighboring points to be considered core points themselves. They are on the border of a cluster.\n",
    "Noise Points: Points that are neither core nor border points. They do not have enough neighbors within the epsilon radius and are considered outliers.\n",
    "Relevance to Anomaly Detection: In anomaly detection, noise points and points on the border of clusters may be considered anomalies, as they do not fit well into any specific dense cluster. Core points, on the other hand, are typically part of the normal behavior captured by the clusters.\n",
    "\n",
    "\n",
    "\n",
    "\n",
    "\n"
   ]
  },
  {
   "cell_type": "code",
   "execution_count": null,
   "id": "6f405d57-e339-4f3c-bd1d-e3b3f88f3d13",
   "metadata": {},
   "outputs": [],
   "source": [
    "##Q-6"
   ]
  },
  {
   "cell_type": "code",
   "execution_count": null,
   "id": "e44466d8-65ae-4ff2-8f02-7ab3ef50338b",
   "metadata": {},
   "outputs": [],
   "source": [
    "DBSCAN can be used for anomaly detection by considering points that are not part of any cluster or are in sparser regions as anomalies.\n",
    "Key Parameters:\n",
    "Epsilon (ε): The radius within which the algorithm searches for neighboring points. It affects the size and shape of the clusters and, consequently, the detection of anomalies. A small ε may lead to more clusters and identify small, dense anomalies, while a large ε may merge clusters and consider more points as outliers.\n",
    "MinPts (Minimum Points): The minimum number of data points required to form a dense region (core point). It influences the density criterion. Higher MinPts values result in larger, more cohesive clusters, affecting the detection of anomalies.\n",
    "Anomaly Detection Process:\n",
    "Core points and border points are part of clusters, while noise points do not belong to any cluster.\n",
    "Noise points and border points may be considered anomalies, as they do not fit well into dense clusters.\n",
    "Adjusting ε and MinPts can impact the clusters formed and the points considered as anomalies."
   ]
  },
  {
   "cell_type": "code",
   "execution_count": null,
   "id": "e8443816-f540-4f3b-a59e-b7e33a484fa8",
   "metadata": {},
   "outputs": [],
   "source": [
    "##Q-7"
   ]
  },
  {
   "cell_type": "code",
   "execution_count": null,
   "id": "1165d697-50b7-49a6-ac16-e8ea524c26a9",
   "metadata": {},
   "outputs": [],
   "source": [
    "The make_circles package in scikit-learn is a function used to generate synthetic data for binary classification where the classes are arranged in concentric circles.\n",
    "This function is often used for testing and illustrating machine learning algorithms, particularly those that are designed to handle non-linear decision boundaries.\n",
    "The generated dataset consists of a circular outer class surrounding a circular inner class, making it a useful tool for evaluating algorithms that need to capture complex, non-linear relationships between features.\n",
    "It can be helpful for visualizing scenarios where linear classifiers may struggle and where non-linear methods or kernel-based methods might be more appropriate"
   ]
  },
  {
   "cell_type": "code",
   "execution_count": null,
   "id": "d9c214ae-5679-476c-8722-e51b15074ab8",
   "metadata": {},
   "outputs": [],
   "source": []
  },
  {
   "cell_type": "code",
   "execution_count": null,
   "id": "ac562ce4-2bdd-4ebe-aa94-438665e66176",
   "metadata": {},
   "outputs": [],
   "source": []
  },
  {
   "cell_type": "code",
   "execution_count": null,
   "id": "79278c41-1b10-409b-a03a-b3aa02a96bb9",
   "metadata": {},
   "outputs": [],
   "source": []
  },
  {
   "cell_type": "code",
   "execution_count": null,
   "id": "bcaaec52-905c-4990-aab5-a74966797243",
   "metadata": {},
   "outputs": [],
   "source": []
  },
  {
   "cell_type": "code",
   "execution_count": null,
   "id": "a00671ca-882e-4284-81c1-ada0c5c3db12",
   "metadata": {},
   "outputs": [],
   "source": []
  },
  {
   "cell_type": "code",
   "execution_count": null,
   "id": "54471907-0aa7-4d3c-abe9-da0a52a767b2",
   "metadata": {},
   "outputs": [],
   "source": []
  },
  {
   "cell_type": "code",
   "execution_count": null,
   "id": "ccb8dad9-77a3-4ff5-aa81-7b0cbcb8e271",
   "metadata": {},
   "outputs": [],
   "source": []
  },
  {
   "cell_type": "code",
   "execution_count": null,
   "id": "1d875acc-8603-46a0-8e69-89a7a43fdb99",
   "metadata": {},
   "outputs": [],
   "source": []
  },
  {
   "cell_type": "code",
   "execution_count": null,
   "id": "806e8c09-d290-4479-85a5-e60dc363b742",
   "metadata": {},
   "outputs": [],
   "source": []
  },
  {
   "cell_type": "code",
   "execution_count": null,
   "id": "cd12f946-f28e-4ab4-8d15-5e383f2105e5",
   "metadata": {},
   "outputs": [],
   "source": []
  },
  {
   "cell_type": "code",
   "execution_count": null,
   "id": "8e68e7ae-8ef6-4d11-9e53-2aea4d230684",
   "metadata": {},
   "outputs": [],
   "source": []
  },
  {
   "cell_type": "code",
   "execution_count": null,
   "id": "9d225ca5-be4b-4799-9caa-d90d7a7b67b0",
   "metadata": {},
   "outputs": [],
   "source": []
  },
  {
   "cell_type": "code",
   "execution_count": null,
   "id": "05dbd157-6764-4ffb-8eac-bc39a5c1b2f2",
   "metadata": {},
   "outputs": [],
   "source": []
  },
  {
   "cell_type": "code",
   "execution_count": null,
   "id": "9c0bf683-61f8-436b-ad5a-72a029cbae62",
   "metadata": {},
   "outputs": [],
   "source": []
  },
  {
   "cell_type": "code",
   "execution_count": null,
   "id": "831cfe28-52d3-4490-a14a-67561124b65a",
   "metadata": {},
   "outputs": [],
   "source": []
  }
 ],
 "metadata": {
  "kernelspec": {
   "display_name": "Python 3 (ipykernel)",
   "language": "python",
   "name": "python3"
  },
  "language_info": {
   "codemirror_mode": {
    "name": "ipython",
    "version": 3
   },
   "file_extension": ".py",
   "mimetype": "text/x-python",
   "name": "python",
   "nbconvert_exporter": "python",
   "pygments_lexer": "ipython3",
   "version": "3.10.8"
  }
 },
 "nbformat": 4,
 "nbformat_minor": 5
}
